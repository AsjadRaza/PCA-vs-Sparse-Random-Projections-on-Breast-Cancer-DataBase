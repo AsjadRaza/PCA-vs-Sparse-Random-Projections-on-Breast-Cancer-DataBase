{
  "nbformat": 4,
  "nbformat_minor": 0,
  "metadata": {
    "kernelspec": {
      "display_name": "Python 3",
      "language": "python",
      "name": "python3"
    },
    "language_info": {
      "codemirror_mode": {
        "name": "ipython",
        "version": 3
      },
      "file_extension": ".py",
      "mimetype": "text/x-python",
      "name": "python",
      "nbconvert_exporter": "python",
      "pygments_lexer": "ipython3",
      "version": "3.7.3"
    },
    "colab": {
      "name": "Shaikh_Muhammad_Asjad_Raza_Assignment_2,3_Solutions.ipynb",
      "provenance": []
    }
  },
  "cells": [
    {
      "cell_type": "markdown",
      "metadata": {
        "id": "8RD2Z1k8R6_l"
      },
      "source": [
        "<h1><center><font color='blue'>Assignment 3</font></center></h1>\n",
        "<h3><center><font color='red'>PCA vs Sparse Random Projections on Breast Cancer DataBase (Based on Prof. Dr Jan Nagler's code)</font></center></h3>"
      ]
    },
    {
      "cell_type": "markdown",
      "metadata": {
        "id": "abTUE_kMR6_l"
      },
      "source": [
        "### <font color='Green'>For this Assignment i will use Breast Cancer Dataset, with SVM (RBF Kernal) and same parameter grid used in Assignment 2</font>"
      ]
    },
    {
      "cell_type": "code",
      "metadata": {
        "id": "0pbaz_6vR6_l",
        "outputId": "8517856d-5ffc-4e85-cf5f-d202720bfa1d"
      },
      "source": [
        "from sklearn.metrics import f1_score\n",
        "y = cancer.target\n",
        "df.shape"
      ],
      "execution_count": null,
      "outputs": [
        {
          "output_type": "execute_result",
          "data": {
            "text/plain": [
              "(569, 30)"
            ]
          },
          "metadata": {
            "tags": []
          },
          "execution_count": 68
        }
      ]
    },
    {
      "cell_type": "code",
      "metadata": {
        "id": "NH8l6SYdR6_l"
      },
      "source": [
        "X_train, X_test, y_train, y_test = train_test_split(df, y, test_size=0.3, random_state=330)"
      ],
      "execution_count": null,
      "outputs": []
    },
    {
      "cell_type": "markdown",
      "metadata": {
        "id": "y5ws4cNJR6_m"
      },
      "source": [
        "### Getting Baseline score Without PCA or Sparse Random Projections using F1_Score"
      ]
    },
    {
      "cell_type": "code",
      "metadata": {
        "id": "JFSIcxuUR6_m"
      },
      "source": [
        "svm_clf = svm.SVC(class_weight='balanced')\n",
        "CV_svm_rbf = parameter_grid(param_grid_rbf, scorers, X_train, y_train, cv=None, refit='f1_score', model=svm_clf)\n",
        "results =pd.DataFrame(data = rbf_results['mean_test_f1_score'])\n",
        "svm_clf = svm_clf.set_params(**CV_svm_rbf.best_params_)\n",
        "svm_clf.fit(X_train, y_train)\n",
        "Y_test_pred = svm_clf.predict(X_test)\n",
        "f1_score_Baseline = f1_score(y_test, Y_test_pred)"
      ],
      "execution_count": null,
      "outputs": []
    },
    {
      "cell_type": "code",
      "metadata": {
        "id": "PhdusGFDR6_m",
        "outputId": "dc7f34ed-f3ed-48ec-aaa6-92f7f04ff70d"
      },
      "source": [
        "print(\"Baseline F1 Score on Test Data: %.3f\" % f1_score_Baseline)"
      ],
      "execution_count": null,
      "outputs": [
        {
          "output_type": "stream",
          "text": [
            "Baseline F1 Score on Test Data: 0.969\n"
          ],
          "name": "stdout"
        }
      ]
    },
    {
      "cell_type": "code",
      "metadata": {
        "id": "DJzAr5v7R6_m"
      },
      "source": [
        "dims = np.int32(np.linspace(2, 20, 19))"
      ],
      "execution_count": null,
      "outputs": []
    },
    {
      "cell_type": "markdown",
      "metadata": {
        "id": "LSKKO5apR6_m"
      },
      "source": [
        "## SRPs with Varing Dimentions "
      ]
    },
    {
      "cell_type": "code",
      "metadata": {
        "id": "etyYqu6OR6_n"
      },
      "source": [
        "from sklearn.metrics import f1_score\n",
        "F1_Score_SRP = []"
      ],
      "execution_count": null,
      "outputs": []
    },
    {
      "cell_type": "code",
      "metadata": {
        "id": "Cao2mJpBR6_n"
      },
      "source": [
        "#SRP\n",
        "# Loop over the projection sizes, k\n",
        "for dim in dims:\n",
        "    # Create random projection\n",
        "    sp = SparseRandomProjection(n_components = dim)\n",
        "    newdata = sp.fit_transform(X_train)\n",
        "    srp_Df = pd.DataFrame(data = newdata)\n",
        "    \n",
        "    svm_clf = svm.SVC(class_weight='balanced')\n",
        "    CV_svm_rbf = parameter_grid(param_grid_rbf, scorers, srp_Df, y_train, cv=None, refit='f1_score', model=svm_clf)\n",
        "    results =pd.DataFrame(data = rbf_results['mean_test_f1_score'])\n",
        "    svm_clf = svm_clf.set_params(**CV_svm_rbf.best_params_)\n",
        "    \n",
        "    svm_clf.fit(srp_Df, y_train)\n",
        "    X_test_sp = sp.transform(X_test)\n",
        "    Y_test_pred = svm_clf.predict(X_test_sp)\n",
        "    F1_Score_SRP.append(f1_score(y_test, Y_test_pred))"
      ],
      "execution_count": null,
      "outputs": []
    },
    {
      "cell_type": "code",
      "metadata": {
        "id": "HZW6fGPfR6_n"
      },
      "source": [
        "#F1_Score_SRP"
      ],
      "execution_count": null,
      "outputs": []
    },
    {
      "cell_type": "markdown",
      "metadata": {
        "id": "h4ulv1RSR6_n"
      },
      "source": [
        "## PCA with Varing Dimentions "
      ]
    },
    {
      "cell_type": "code",
      "metadata": {
        "id": "i2wmgES6R6_o"
      },
      "source": [
        "from sklearn.metrics import f1_score\n",
        "F1_Score_PCA = []"
      ],
      "execution_count": null,
      "outputs": []
    },
    {
      "cell_type": "code",
      "metadata": {
        "id": "2MfHQ9R7R6_o"
      },
      "source": [
        "#PCA\n",
        "# Loop over the projection sizes, k\n",
        "for dim in dims:\n",
        "    # Create random projection\n",
        "    pca = PCA(n_components = dim)\n",
        "    newdata = pca.fit_transform(X_train)\n",
        "    principalDf = pd.DataFrame(data = newdata)\n",
        "    \n",
        "    svm_clf = svm.SVC(class_weight='balanced')\n",
        "    CV_svm_rbf = parameter_grid(param_grid_rbf,scorers, principalDf, y_train, cv=None, refit='f1_score', model=svm_clf)\n",
        "    results =pd.DataFrame(data = rbf_results['mean_test_f1_score'])\n",
        "    svm_clf = svm_clf.set_params(**CV_svm_rbf.best_params_)\n",
        "    \n",
        "\n",
        "    svm_clf.fit(principalDf, y_train)\n",
        "    X_test_pca = pca.transform(X_test)\n",
        "    Y_test_pred = svm_clf.predict(X_test_pca)\n",
        "    F1_Score_PCA.append(f1_score(y_test, Y_test_pred))"
      ],
      "execution_count": null,
      "outputs": []
    },
    {
      "cell_type": "code",
      "metadata": {
        "id": "iZtq1fMrR6_o"
      },
      "source": [
        "#F1_Score_PCA"
      ],
      "execution_count": null,
      "outputs": []
    },
    {
      "cell_type": "markdown",
      "metadata": {
        "id": "q9V3huCUR6_o"
      },
      "source": [
        "### Plot F1_scores returned by PCA and SRPs wrt. Dimentions in one graph. "
      ]
    },
    {
      "cell_type": "code",
      "metadata": {
        "id": "ajazlz5eR6_o",
        "outputId": "a2703bad-6f73-46ef-86b4-d1ba4b32b695"
      },
      "source": [
        "# Create figure\n",
        "plt.figure(figsize=(15,10))\n",
        "plt.xlabel(\"# of dimensions k\",fontweight='bold')\n",
        "plt.ylabel(\"F1_Score\",fontweight='bold')\n",
        " \n",
        "# Plot baseline, random projection and PCA \n",
        "plt.plot(dims, [f1_score_Baseline] * len(F1_Score_SRP), color = \"r\", label='Baseline')\n",
        "plt.plot(dims, F1_Score_SRP, color = \"g\", label='SRP', linestyle='--')\n",
        "plt.plot(dims, F1_Score_PCA, color = \"black\", label='PCA', linestyle='-.')\n",
        "plt.title('Sparse Random Projections vs Principal Component Analysis',fontsize=14, fontweight='bold')\n",
        "plt.xlim(2, 20)\n",
        "plt.ylim(0.75, 1)\n",
        "plt.xticks(dims)\n",
        "plt.legend(loc=4, prop={'size': 20})\n",
        "plt.grid()\n",
        "plt.show()\n"
      ],
      "execution_count": null,
      "outputs": [
        {
          "output_type": "display_data",
          "data": {
            "image/png": "[encoded data removed]",
            "text/plain": [
              "<Figure size 1080x720 with 1 Axes>"
            ]
          },
          "metadata": {
            "tags": [],
            "needs_background": "light"
          }
        }
      ]
    },
    {
      "cell_type": "markdown",
      "metadata": {
        "id": "fTaXQZFjR6_p"
      },
      "source": [
        "### For Breast Cancer Dataset, it is clear that PCA wins.  PCA has significantly improved the F1_Scores and touches baseline at 3 dimenstions(Optimal number of dimentions would be 5). SRPs managed to cross the Baseline with 10 dimentions."
      ]
    },
    {
      "cell_type": "code",
      "metadata": {
        "id": "w_X2Mn9OR6_p"
      },
      "source": [
        "\n"
      ],
      "execution_count": null,
      "outputs": []
    },
    {
      "cell_type": "code",
      "metadata": {
        "id": "evBlA5EVR6_p"
      },
      "source": [
        ""
      ],
      "execution_count": null,
      "outputs": []
    },
    {
      "cell_type": "code",
      "metadata": {
        "id": "7SAwTCoBR6_p"
      },
      "source": [
        ""
      ],
      "execution_count": null,
      "outputs": []
    },
    {
      "cell_type": "code",
      "metadata": {
        "id": "CQnHMrR8R6_p"
      },
      "source": [
        ""
      ],
      "execution_count": null,
      "outputs": []
    }
  ]
}